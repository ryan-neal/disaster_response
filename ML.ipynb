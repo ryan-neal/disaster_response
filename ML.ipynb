{
 "cells": [
  {
   "cell_type": "code",
   "execution_count": 68,
   "metadata": {},
   "outputs": [],
   "source": [
    "# imports\n",
    "import pandas as pd\n",
    "import numpy as np\n",
    "from sqlalchemy import create_engine\n",
    "from dotenv import load_dotenv\n",
    "load_dotenv()\n",
    "from helpers import get_database_url\n",
    "import os\n",
    "import re\n",
    "import nltk\n",
    "from nltk.tokenize import RegexpTokenizer\n",
    "from nltk.corpus import stopwords\n",
    "from nltk.stem.wordnet import WordNetLemmatizer\n",
    "from nltk.tokenize import word_tokenize\n",
    "from sklearn.feature_extraction.text import CountVectorizer\n",
    "from sklearn.feature_extraction.text import TfidfTransformer\n",
    "from sklearn.ensemble import RandomForestClassifier\n",
    "from sklearn.pipeline import Pipeline, FeatureUnion\n",
    "from sklearn.metrics import confusion_matrix, classification_report\n",
    "from sklearn.model_selection import train_test_split, GridSearchCV\n",
    "from sklearn.multioutput import MultiOutputClassifier\n",
    "from sklearn.linear_model import LogisticRegression\n",
    "from sklearn.svm import LinearSVC\n",
    "from sklearn.metrics import precision_recall_fscore_support as score\n",
    "from sklearn.decomposition import TruncatedSVD\n",
    "from wordcounter import WordCounter\n",
    "import joblib\n",
    "import pickle"
   ]
  },
  {
   "cell_type": "markdown",
   "metadata": {},
   "source": [
    "<h2>Load Data</h2>"
   ]
  },
  {
   "cell_type": "code",
   "execution_count": 69,
   "metadata": {},
   "outputs": [],
   "source": [
    "def load_data(database_name):\n",
    "    url = get_database_url()\n",
    "    engine = create_engine(url)\n",
    "    df = pd.read_sql_table(database_name, engine)\n",
    "    X = df[\"message\"]\n",
    "    Y = df[df.columns[3:]]\n",
    "    Y = Y.astype(int)\n",
    "    categories = list(Y.columns)\n",
    "    return X, Y, categories"
   ]
  },
  {
   "cell_type": "code",
   "execution_count": 70,
   "metadata": {},
   "outputs": [],
   "source": [
    "df = load_data(\"message_categories\")"
   ]
  },
  {
   "cell_type": "code",
   "execution_count": 71,
   "metadata": {},
   "outputs": [
    {
     "data": {
      "text/plain": [
       "(0        Weather update - a cold front from Cuba that c...\n",
       " 1                  Is the Hurricane over or is it not over\n",
       " 2                          Looking for someone but no name\n",
       " 3        UN reports Leogane 80-90 destroyed. Only Hospi...\n",
       " 4        says: west side of Haiti, rest of the country ...\n",
       "                                ...                        \n",
       " 26172    The training demonstrated how to enhance micro...\n",
       " 26173    A suitable candidate has been selected and OCH...\n",
       " 26174    Proshika, operating in Cox's Bazar municipalit...\n",
       " 26175    Some 2,000 women protesting against the conduc...\n",
       " 26176    A radical shift in thinking came about as a re...\n",
       " Name: message, Length: 26177, dtype: object,\n",
       "        related  request  offer  aid_related  medical_help  medical_products  \\\n",
       " 0            1        0      0            0             0                 0   \n",
       " 1            1        0      0            1             0                 0   \n",
       " 2            1        0      0            0             0                 0   \n",
       " 3            1        1      0            1             0                 1   \n",
       " 4            1        0      0            0             0                 0   \n",
       " ...        ...      ...    ...          ...           ...               ...   \n",
       " 26172        0        0      0            0             0                 0   \n",
       " 26173        0        0      0            0             0                 0   \n",
       " 26174        1        0      0            0             0                 0   \n",
       " 26175        1        0      0            1             0                 0   \n",
       " 26176        1        0      0            0             0                 0   \n",
       " \n",
       "        search_and_rescue  security  military  child_alone  ...  aid_centers  \\\n",
       " 0                      0         0         0            0  ...            0   \n",
       " 1                      0         0         0            0  ...            0   \n",
       " 2                      0         0         0            0  ...            0   \n",
       " 3                      0         0         0            0  ...            0   \n",
       " 4                      0         0         0            0  ...            0   \n",
       " ...                  ...       ...       ...          ...  ...          ...   \n",
       " 26172                  0         0         0            0  ...            0   \n",
       " 26173                  0         0         0            0  ...            0   \n",
       " 26174                  0         0         0            0  ...            0   \n",
       " 26175                  0         0         1            0  ...            0   \n",
       " 26176                  0         0         0            0  ...            0   \n",
       " \n",
       "        other_infrastructure  weather_related  floods  storm  fire  earthquake  \\\n",
       " 0                         0                0       0      0     0           0   \n",
       " 1                         0                1       0      1     0           0   \n",
       " 2                         0                0       0      0     0           0   \n",
       " 3                         0                0       0      0     0           0   \n",
       " 4                         0                0       0      0     0           0   \n",
       " ...                     ...              ...     ...    ...   ...         ...   \n",
       " 26172                     0                0       0      0     0           0   \n",
       " 26173                     0                0       0      0     0           0   \n",
       " 26174                     0                0       0      0     0           0   \n",
       " 26175                     0                0       0      0     0           0   \n",
       " 26176                     0                0       0      0     0           0   \n",
       " \n",
       "        cold  other_weather  direct_report  \n",
       " 0         0              0              0  \n",
       " 1         0              0              0  \n",
       " 2         0              0              0  \n",
       " 3         0              0              0  \n",
       " 4         0              0              0  \n",
       " ...     ...            ...            ...  \n",
       " 26172     0              0              0  \n",
       " 26173     0              0              0  \n",
       " 26174     0              0              0  \n",
       " 26175     0              0              0  \n",
       " 26176     0              0              0  \n",
       " \n",
       " [26177 rows x 36 columns],\n",
       " ['related',\n",
       "  'request',\n",
       "  'offer',\n",
       "  'aid_related',\n",
       "  'medical_help',\n",
       "  'medical_products',\n",
       "  'search_and_rescue',\n",
       "  'security',\n",
       "  'military',\n",
       "  'child_alone',\n",
       "  'water',\n",
       "  'food',\n",
       "  'shelter',\n",
       "  'clothing',\n",
       "  'money',\n",
       "  'missing_people',\n",
       "  'refugees',\n",
       "  'death',\n",
       "  'other_aid',\n",
       "  'infrastructure_related',\n",
       "  'transport',\n",
       "  'buildings',\n",
       "  'electricity',\n",
       "  'tools',\n",
       "  'hospitals',\n",
       "  'shops',\n",
       "  'aid_centers',\n",
       "  'other_infrastructure',\n",
       "  'weather_related',\n",
       "  'floods',\n",
       "  'storm',\n",
       "  'fire',\n",
       "  'earthquake',\n",
       "  'cold',\n",
       "  'other_weather',\n",
       "  'direct_report'])"
      ]
     },
     "execution_count": 71,
     "metadata": {},
     "output_type": "execute_result"
    }
   ],
   "source": [
    "df"
   ]
  },
  {
   "cell_type": "markdown",
   "metadata": {},
   "source": [
    "<h2> Tokenize message data </h2>"
   ]
  },
  {
   "cell_type": "code",
   "execution_count": 72,
   "metadata": {},
   "outputs": [],
   "source": [
    "def tokenize(series):\n",
    "    \n",
    "    stop_words = stopwords.words(\"english\")\n",
    "    \n",
    "    tokenizer = RegexpTokenizer(\"\\w+|\\d+\")\n",
    "    \n",
    "    tokens = []\n",
    "    \n",
    "    for row in series:\n",
    "        clean = tokenizer.tokenize(row.lower())\n",
    "        tokens.append(clean)\n",
    "        \n",
    "    lemmatizer = WordNetLemmatizer()\n",
    "\n",
    "    clean_tokens = []\n",
    "    for tok in tokens:\n",
    "        #tok = list(set(tok) - set(stop_words))\n",
    "        clean_tok = lemmatizer.lemmatize(str(tok)).lower().strip()\n",
    "        clean_tokens.append(clean_tok)\n",
    "\n",
    "    return clean_tokens"
   ]
  },
  {
   "cell_type": "markdown",
   "metadata": {},
   "source": [
    "<h2>Build a simple machine learning pipeline </h2>"
   ]
  },
  {
   "cell_type": "code",
   "execution_count": 73,
   "metadata": {},
   "outputs": [],
   "source": [
    "def build_model():\n",
    "    pipeline = Pipeline(\n",
    "        [\n",
    "            (\"features\", FeatureUnion([\n",
    "                (\"text_pipeline\", Pipeline([\n",
    "                    ('vect', CountVectorizer(tokenizer=tokenize)),\n",
    "                    ('tfidf', TfidfTransformer()),\n",
    "                ])),\n",
    "                (\"word_count\", Pipeline([\n",
    "                    ('text_len', WordCounter()),\n",
    "                ])),\n",
    "            ])),\n",
    "            (\"clf\", MultiOutputClassifier(RandomForestClassifier()))\n",
    "        ])\n",
    "\n",
    "    return pipeline"
   ]
  },
  {
   "cell_type": "code",
   "execution_count": 74,
   "metadata": {},
   "outputs": [],
   "source": [
    "def evaluate_model(model, X_test, Y_test, categories):\n",
    "    Y_pred = model.predict(X_test)\n",
    "    Y_pred_df = pd.DataFrame(Y_pred, columns = categories)\n",
    "    for column in Y_test.columns:\n",
    "        precision, recall, fscore, support = score(Y_test[column], Y_pred_df[column], average=\"weighted\")\n",
    "        print(column, precision, recall, fscore)"
   ]
  },
  {
   "cell_type": "code",
   "execution_count": 75,
   "metadata": {},
   "outputs": [],
   "source": [
    "def main():\n",
    "    X, Y, categories = load_data(\"message_categories\")\n",
    "    X_train, X_test, Y_train, Y_test = train_test_split(X, Y)\n",
    "    model = build_model()\n",
    "    model.fit(X_train, Y_train)\n",
    "    Y_pred = model.predict(X_test)\n",
    "    evaluate_model(Y_test, Y_pred, categories)\n",
    "    save_model(model, \"classifier.joblib\")"
   ]
  },
  {
   "cell_type": "code",
   "execution_count": 76,
   "metadata": {},
   "outputs": [],
   "source": [
    "def save_model(model, filename):\n",
    "    joblib.dump(model, open(filename, 'wb'))"
   ]
  },
  {
   "cell_type": "code",
   "execution_count": null,
   "metadata": {},
   "outputs": [],
   "source": [
    "main()"
   ]
  },
  {
   "cell_type": "code",
   "execution_count": null,
   "metadata": {},
   "outputs": [],
   "source": []
  }
 ],
 "metadata": {
  "kernelspec": {
   "display_name": "disaster",
   "language": "python",
   "name": "disaster"
  },
  "language_info": {
   "codemirror_mode": {
    "name": "ipython",
    "version": 3
   },
   "file_extension": ".py",
   "mimetype": "text/x-python",
   "name": "python",
   "nbconvert_exporter": "python",
   "pygments_lexer": "ipython3",
   "version": "3.7.7"
  }
 },
 "nbformat": 4,
 "nbformat_minor": 4
}
