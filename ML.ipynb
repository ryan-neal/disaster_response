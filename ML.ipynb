{
 "cells": [
  {
   "cell_type": "code",
   "execution_count": 34,
   "metadata": {},
   "outputs": [],
   "source": [
    "# imports\n",
    "import pandas as pd\n",
    "import numpy as np\n",
    "from sqlalchemy import create_engine\n",
    "from dotenv import load_dotenv\n",
    "load_dotenv()\n",
    "from helpers import get_database_url\n",
    "import os\n",
    "import re\n",
    "import nltk\n",
    "from nltk.tokenize import RegexpTokenizer\n",
    "from nltk.corpus import stopwords\n",
    "from nltk.stem.wordnet import WordNetLemmatizer\n",
    "from nltk.tokenize import word_tokenize\n",
    "from sklearn.feature_extraction.text import CountVectorizer\n",
    "from sklearn.feature_extraction.text import TfidfTransformer\n",
    "from sklearn.ensemble import RandomForestClassifier\n",
    "from sklearn.pipeline import Pipeline, FeatureUnion\n",
    "from sklearn.metrics import confusion_matrix, classification_report\n",
    "from sklearn.model_selection import train_test_split, GridSearchCV\n",
    "from sklearn.multioutput import MultiOutputClassifier\n",
    "from sklearn.linear_model import LogisticRegression\n",
    "from sklearn.svm import LinearSVC\n",
    "from sklearn.metrics import precision_recall_fscore_support as score\n",
    "from sklearn.decomposition import TruncatedSVD\n",
    "from debug import Debug\n",
    "from wordcounter import WordCounter"
   ]
  },
  {
   "cell_type": "markdown",
   "metadata": {},
   "source": [
    "<h2>Load Data</h2>"
   ]
  },
  {
   "cell_type": "code",
   "execution_count": 35,
   "metadata": {},
   "outputs": [],
   "source": [
    "def load_data():\n",
    "    url = get_database_url()\n",
    "    engine = create_engine(url)\n",
    "    df = pd.read_sql_table(\"message_categories\", engine)\n",
    "    X = df[\"message\"]\n",
    "    Y = df[df.columns[3:]]\n",
    "    Y = Y.astype(int)\n",
    "    return X, Y"
   ]
  },
  {
   "cell_type": "markdown",
   "metadata": {},
   "source": [
    "<h2> Tokenize message data </h2>"
   ]
  },
  {
   "cell_type": "code",
   "execution_count": 36,
   "metadata": {},
   "outputs": [],
   "source": [
    "def tokenize(series):\n",
    "    \n",
    "    stop_words = stopwords.words(\"english\")\n",
    "    \n",
    "    tokenizer = RegexpTokenizer(\"\\w+|\\d+\")\n",
    "    \n",
    "    tokens = []\n",
    "    \n",
    "    for row in series:\n",
    "        clean = tokenizer.tokenize(row.lower())\n",
    "        tokens.append(clean)\n",
    "        \n",
    "    lemmatizer = WordNetLemmatizer()\n",
    "\n",
    "    clean_tokens = []\n",
    "    for tok in tokens:\n",
    "        #tok = list(set(tok) - set(stop_words))\n",
    "        clean_tok = lemmatizer.lemmatize(str(tok)).lower().strip()\n",
    "        clean_tokens.append(clean_tok)\n",
    "\n",
    "    return clean_tokens"
   ]
  },
  {
   "cell_type": "markdown",
   "metadata": {},
   "source": [
    "<h2>Build a simple machine learning pipeline </h2>"
   ]
  },
  {
   "cell_type": "code",
   "execution_count": 37,
   "metadata": {},
   "outputs": [],
   "source": [
    "def model_pipeline():\n",
    "    pipeline = Pipeline(\n",
    "        [\n",
    "            (\"features\", FeatureUnion([\n",
    "                (\"text_pipeline\", Pipeline([\n",
    "                    ('vect', CountVectorizer(tokenizer=tokenize)),\n",
    "                    ('tfidf', TfidfTransformer()),\n",
    "                ])),\n",
    "                (\"word_count\", Pipeline([\n",
    "                    ('text_len', WordCounter()),\n",
    "                ])),\n",
    "            ])),\n",
    "            (\"clf\", MultiOutputClassifier(RandomForestClassifier()))\n",
    "        ])\n",
    "    return pipeline"
   ]
  },
  {
   "cell_type": "code",
   "execution_count": 45,
   "metadata": {},
   "outputs": [],
   "source": [
    "def display_score(Y_true, Y_pred, Y):\n",
    "    Y_pred_df = convert_to_dataframe(Y_pred, Y)\n",
    "    for column in Y_true.columns:\n",
    "        precision, recall, fscore = score(Y_true[column], Y_pred_df[column], average=\"weighted\")\n",
    "        print(column, precision, recall, fscore)"
   ]
  },
  {
   "cell_type": "code",
   "execution_count": 46,
   "metadata": {},
   "outputs": [],
   "source": [
    "def convert_to_dataframe(test_data, Y):\n",
    "    test_df = pd.DataFrame(test_data, columns = Y.columns)\n",
    "    return test_df"
   ]
  },
  {
   "cell_type": "code",
   "execution_count": 47,
   "metadata": {},
   "outputs": [],
   "source": [
    "def main():\n",
    "    X, Y = load_data()\n",
    "    X_train, X_test, Y_train, Y_test = train_test_split(X, Y)\n",
    "    model = model_pipeline()\n",
    "    model.fit(X_train, Y_train)\n",
    "    Y_pred = model.predict(X_test)\n",
    "    display_score(Y_test, Y_pred, Y)"
   ]
  },
  {
   "cell_type": "code",
   "execution_count": 48,
   "metadata": {},
   "outputs": [
    {
     "name": "stdout",
     "output_type": "stream",
     "text": [
      "############################################\n",
      "13135    25\n",
      "22543    29\n",
      "7991     16\n",
      "15807    19\n",
      "17765    44\n",
      "         ..\n",
      "15515    25\n",
      "10042     9\n",
      "3069     30\n",
      "919      37\n",
      "7307     12\n",
      "Name: message, Length: 19632, dtype: int64 (19632,)\n",
      "       message\n",
      "13135       25\n",
      "22543       29\n",
      "7991        16\n",
      "15807       19\n",
      "17765       44\n",
      "...        ...\n",
      "15515       25\n",
      "10042        9\n",
      "3069        30\n",
      "919         37\n",
      "7307        12\n",
      "\n",
      "[19632 rows x 1 columns]\n",
      "############################################\n",
      "13836    25\n",
      "23864    15\n",
      "9172     12\n",
      "10941    16\n",
      "17798     8\n",
      "         ..\n",
      "9344     27\n",
      "12163    28\n",
      "23942    19\n",
      "25747     3\n",
      "2870     33\n",
      "Name: message, Length: 6545, dtype: int64 (6545,)\n",
      "       message\n",
      "13836       25\n",
      "23864       15\n",
      "9172        12\n",
      "10941       16\n",
      "17798        8\n",
      "...        ...\n",
      "9344        27\n",
      "12163       28\n",
      "23942       19\n",
      "25747        3\n",
      "2870        33\n",
      "\n",
      "[6545 rows x 1 columns]\n",
      "related 0.7575823008949285 0.7772345301757067 0.7224607210307905 None\n",
      "request 0.8495893311920176 0.8585179526355997 0.8199963201364 None\n",
      "offer 0.9911579060403938 0.9955691367456073 0.9933586241534916 None\n",
      "aid_related 0.6615682865746221 0.667379679144385 0.6521457981574891 None\n",
      "medical_help 0.9127028256501221 0.9237585943468296 0.8884757977918598 None\n",
      "medical_products 0.9254957034400288 0.9506493506493506 0.9276331399602602 None\n",
      "search_and_rescue 0.9448612269409464 0.9720397249809014 0.9582578027935995 None\n",
      "security 0.9717832645941215 0.9857906799083269 0.9787368572391361 None\n",
      "military 0.93626690929167 0.9676088617265088 0.9516799070218948 None\n",
      "child_alone 1.0 1.0 1.0 None\n",
      "water 0.9138072521665419 0.9408708938120702 0.9153486753609195 None\n",
      "food 0.8558441426159785 0.8864782276546982 0.8397764243055255 None\n",
      "shelter 0.9035834019372078 0.9158135981665393 0.8774695535932489 None\n",
      "clothing 0.9723858274471675 0.986096256684492 0.9791930518719457 None\n",
      "money 0.9540916765344932 0.9767761650114591 0.9653006682513925 None\n",
      "missing_people 0.9790263446166021 0.9894576012223071 0.9842143346157224 None\n",
      "refugees 0.9401011598324887 0.9691367456073339 0.9543981669187059 None\n",
      "death 0.9462924986508364 0.9533995416348358 0.9313962817013877 None\n",
      "other_aid 0.8079193172632537 0.8750190985485103 0.8175668761826091 None\n",
      "infrastructure_related 0.8851508989813562 0.9295645530939649 0.8966652229115566 None\n",
      "transport 0.9203564081628649 0.9590527119938884 0.9393061891451607 None\n",
      "buildings 0.926947339402817 0.9526355996944232 0.9302711185702736 None\n",
      "electricity 0.9573777824206979 0.9784568372803667 0.9678025462882798 None\n",
      "tools 0.988118012396986 0.9940412528647823 0.991070782489966 None\n",
      "hospitals 0.9790263446166021 0.9894576012223071 0.9842143346157224 None\n",
      "shops 0.9893334095913523 0.9946524064171123 0.9919857779816778 None\n",
      "aid_centers 0.9744943320737942 0.987012987012987 0.9807137115095594 None\n",
      "other_infrastructure 0.9092620460921365 0.9535523300229183 0.9308806650513113 None\n",
      "weather_related 0.7763202544470804 0.7822765469824293 0.7470911658400051 None\n",
      "floods 0.9085125410389165 0.9217723453017571 0.886563957707924 None\n",
      "storm 0.8943925677957488 0.9115355233002291 0.8723632128100065 None\n",
      "fire 0.9784217274659013 0.9891520244461421 0.9837576167546392 None\n",
      "earthquake 0.9403718929710646 0.9445378151260504 0.9382671789412761 None\n",
      "cold 0.9606695376254537 0.9801375095492743 0.9703058832960793 None\n",
      "other_weather 0.8926891924409462 0.9440794499618029 0.9176654068789357 None\n",
      "direct_report 0.8254746142329925 0.8365164247517188 0.7911925162742898 None\n"
     ]
    },
    {
     "name": "stderr",
     "output_type": "stream",
     "text": [
      "/Users/ryanneal/Desktop/data_science/disaster_response/disaster/lib/python3.7/site-packages/sklearn/metrics/_classification.py:1221: UndefinedMetricWarning: Precision and F-score are ill-defined and being set to 0.0 in labels with no predicted samples. Use `zero_division` parameter to control this behavior.\n",
      "  _warn_prf(average, modifier, msg_start, len(result))\n"
     ]
    }
   ],
   "source": [
    "main()"
   ]
  },
  {
   "cell_type": "code",
   "execution_count": null,
   "metadata": {},
   "outputs": [],
   "source": []
  }
 ],
 "metadata": {
  "kernelspec": {
   "display_name": "disaster",
   "language": "python",
   "name": "disaster"
  },
  "language_info": {
   "codemirror_mode": {
    "name": "ipython",
    "version": 3
   },
   "file_extension": ".py",
   "mimetype": "text/x-python",
   "name": "python",
   "nbconvert_exporter": "python",
   "pygments_lexer": "ipython3",
   "version": "3.7.7"
  }
 },
 "nbformat": 4,
 "nbformat_minor": 4
}
