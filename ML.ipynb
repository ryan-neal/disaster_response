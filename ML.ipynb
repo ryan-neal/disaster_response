{
 "cells": [
  {
   "cell_type": "code",
   "execution_count": 81,
   "metadata": {},
   "outputs": [],
   "source": [
    "# imports\n",
    "import pandas as pd\n",
    "import numpy as np\n",
    "from sqlalchemy import create_engine\n",
    "from dotenv import load_dotenv\n",
    "load_dotenv()\n",
    "from helpers import get_database_url\n",
    "import os\n",
    "import re\n",
    "import nltk\n",
    "from nltk.tokenize import RegexpTokenizer\n",
    "from nltk.corpus import stopwords\n",
    "from nltk.stem.wordnet import WordNetLemmatizer\n",
    "from nltk.tokenize import word_tokenize\n",
    "from sklearn.feature_extraction.text import CountVectorizer\n",
    "from sklearn.feature_extraction.text import TfidfTransformer\n",
    "from sklearn.ensemble import RandomForestClassifier\n",
    "from sklearn.pipeline import Pipeline, FeatureUnion\n",
    "from sklearn.metrics import confusion_matrix, classification_report\n",
    "from sklearn.model_selection import train_test_split, GridSearchCV\n",
    "from sklearn.multioutput import MultiOutputClassifier\n",
    "from sklearn.linear_model import LogisticRegression\n",
    "from sklearn.svm import LinearSVC\n",
    "from sklearn.metrics import precision_recall_fscore_support as score\n",
    "from sklearn.decomposition import TruncatedSVD\n",
    "from wordcounter import WordCounter\n",
    "import joblib\n",
    "import pickle"
   ]
  },
  {
   "cell_type": "markdown",
   "metadata": {},
   "source": [
    "<h2>Load Data</h2>"
   ]
  },
  {
   "cell_type": "code",
   "execution_count": 82,
   "metadata": {},
   "outputs": [],
   "source": [
    "def load_data(database_name):\n",
    "    url = get_database_url()\n",
    "    engine = create_engine(url)\n",
    "    df = pd.read_sql_table(database_name, engine)\n",
    "    X = df[\"message\"]\n",
    "    Y = df[df.columns[3:]]\n",
    "    Y = Y.astype(int)\n",
    "    categories = list(Y.columns)\n",
    "    return X, Y, categories"
   ]
  },
  {
   "cell_type": "code",
   "execution_count": 83,
   "metadata": {},
   "outputs": [],
   "source": [
    "df = load_data(\"message_categories\")"
   ]
  },
  {
   "cell_type": "code",
   "execution_count": 84,
   "metadata": {},
   "outputs": [
    {
     "data": {
      "text/plain": [
       "(0        Weather update - a cold front from Cuba that c...\n",
       " 1                  Is the Hurricane over or is it not over\n",
       " 2                          Looking for someone but no name\n",
       " 3        UN reports Leogane 80-90 destroyed. Only Hospi...\n",
       " 4        says: west side of Haiti, rest of the country ...\n",
       "                                ...                        \n",
       " 26172    The training demonstrated how to enhance micro...\n",
       " 26173    A suitable candidate has been selected and OCH...\n",
       " 26174    Proshika, operating in Cox's Bazar municipalit...\n",
       " 26175    Some 2,000 women protesting against the conduc...\n",
       " 26176    A radical shift in thinking came about as a re...\n",
       " Name: message, Length: 26177, dtype: object,\n",
       "        related  request  offer  aid_related  medical_help  medical_products  \\\n",
       " 0            1        0      0            0             0                 0   \n",
       " 1            1        0      0            1             0                 0   \n",
       " 2            1        0      0            0             0                 0   \n",
       " 3            1        1      0            1             0                 1   \n",
       " 4            1        0      0            0             0                 0   \n",
       " ...        ...      ...    ...          ...           ...               ...   \n",
       " 26172        0        0      0            0             0                 0   \n",
       " 26173        0        0      0            0             0                 0   \n",
       " 26174        1        0      0            0             0                 0   \n",
       " 26175        1        0      0            1             0                 0   \n",
       " 26176        1        0      0            0             0                 0   \n",
       " \n",
       "        search_and_rescue  security  military  child_alone  ...  aid_centers  \\\n",
       " 0                      0         0         0            0  ...            0   \n",
       " 1                      0         0         0            0  ...            0   \n",
       " 2                      0         0         0            0  ...            0   \n",
       " 3                      0         0         0            0  ...            0   \n",
       " 4                      0         0         0            0  ...            0   \n",
       " ...                  ...       ...       ...          ...  ...          ...   \n",
       " 26172                  0         0         0            0  ...            0   \n",
       " 26173                  0         0         0            0  ...            0   \n",
       " 26174                  0         0         0            0  ...            0   \n",
       " 26175                  0         0         1            0  ...            0   \n",
       " 26176                  0         0         0            0  ...            0   \n",
       " \n",
       "        other_infrastructure  weather_related  floods  storm  fire  earthquake  \\\n",
       " 0                         0                0       0      0     0           0   \n",
       " 1                         0                1       0      1     0           0   \n",
       " 2                         0                0       0      0     0           0   \n",
       " 3                         0                0       0      0     0           0   \n",
       " 4                         0                0       0      0     0           0   \n",
       " ...                     ...              ...     ...    ...   ...         ...   \n",
       " 26172                     0                0       0      0     0           0   \n",
       " 26173                     0                0       0      0     0           0   \n",
       " 26174                     0                0       0      0     0           0   \n",
       " 26175                     0                0       0      0     0           0   \n",
       " 26176                     0                0       0      0     0           0   \n",
       " \n",
       "        cold  other_weather  direct_report  \n",
       " 0         0              0              0  \n",
       " 1         0              0              0  \n",
       " 2         0              0              0  \n",
       " 3         0              0              0  \n",
       " 4         0              0              0  \n",
       " ...     ...            ...            ...  \n",
       " 26172     0              0              0  \n",
       " 26173     0              0              0  \n",
       " 26174     0              0              0  \n",
       " 26175     0              0              0  \n",
       " 26176     0              0              0  \n",
       " \n",
       " [26177 rows x 36 columns],\n",
       " ['related',\n",
       "  'request',\n",
       "  'offer',\n",
       "  'aid_related',\n",
       "  'medical_help',\n",
       "  'medical_products',\n",
       "  'search_and_rescue',\n",
       "  'security',\n",
       "  'military',\n",
       "  'child_alone',\n",
       "  'water',\n",
       "  'food',\n",
       "  'shelter',\n",
       "  'clothing',\n",
       "  'money',\n",
       "  'missing_people',\n",
       "  'refugees',\n",
       "  'death',\n",
       "  'other_aid',\n",
       "  'infrastructure_related',\n",
       "  'transport',\n",
       "  'buildings',\n",
       "  'electricity',\n",
       "  'tools',\n",
       "  'hospitals',\n",
       "  'shops',\n",
       "  'aid_centers',\n",
       "  'other_infrastructure',\n",
       "  'weather_related',\n",
       "  'floods',\n",
       "  'storm',\n",
       "  'fire',\n",
       "  'earthquake',\n",
       "  'cold',\n",
       "  'other_weather',\n",
       "  'direct_report'])"
      ]
     },
     "execution_count": 84,
     "metadata": {},
     "output_type": "execute_result"
    }
   ],
   "source": [
    "df"
   ]
  },
  {
   "cell_type": "markdown",
   "metadata": {},
   "source": [
    "<h2> Tokenize message data </h2>"
   ]
  },
  {
   "cell_type": "code",
   "execution_count": 85,
   "metadata": {},
   "outputs": [],
   "source": [
    "def tokenize(series):\n",
    "    \n",
    "    stop_words = stopwords.words(\"english\")\n",
    "    \n",
    "    tokenizer = RegexpTokenizer(\"\\w+|\\d+\")\n",
    "    \n",
    "    tokens = []\n",
    "    \n",
    "    for row in series:\n",
    "        clean = tokenizer.tokenize(row.lower())\n",
    "        tokens.append(clean)\n",
    "        \n",
    "    lemmatizer = WordNetLemmatizer()\n",
    "\n",
    "    clean_tokens = []\n",
    "    for tok in tokens:\n",
    "        #tok = list(set(tok) - set(stop_words))\n",
    "        clean_tok = lemmatizer.lemmatize(str(tok)).lower().strip()\n",
    "        clean_tokens.append(clean_tok)\n",
    "\n",
    "    return clean_tokens"
   ]
  },
  {
   "cell_type": "markdown",
   "metadata": {},
   "source": [
    "<h2>Build a simple machine learning pipeline </h2>"
   ]
  },
  {
   "cell_type": "code",
   "execution_count": 86,
   "metadata": {},
   "outputs": [],
   "source": [
    "def build_model():\n",
    "    pipeline = Pipeline(\n",
    "        [\n",
    "            (\"features\", FeatureUnion([\n",
    "                (\"text_pipeline\", Pipeline([\n",
    "                    ('vect', CountVectorizer(tokenizer=tokenize)),\n",
    "                    ('tfidf', TfidfTransformer()),\n",
    "                ])),\n",
    "                (\"word_count\", Pipeline([\n",
    "                    ('text_len', WordCounter()),\n",
    "                ])),\n",
    "            ])),\n",
    "            (\"clf\", MultiOutputClassifier(RandomForestClassifier()))\n",
    "        ])\n",
    "\n",
    "    return pipeline"
   ]
  },
  {
   "cell_type": "code",
   "execution_count": 87,
   "metadata": {},
   "outputs": [],
   "source": [
    "def evaluate_model(model, X_test, Y_test, categories):\n",
    "    Y_pred = model.predict(X_test)\n",
    "    Y_pred_df = pd.DataFrame(Y_pred, columns = categories)\n",
    "    for column in Y_test.columns:\n",
    "        precision, recall, fscore, support = score(Y_test[column], Y_pred_df[column], average=\"weighted\")\n",
    "        print(column, precision, recall, fscore)"
   ]
  },
  {
   "cell_type": "code",
   "execution_count": 88,
   "metadata": {},
   "outputs": [],
   "source": [
    "def main():\n",
    "    X, Y, categories = load_data(\"message_categories\")\n",
    "    X_train, X_test, Y_train, Y_test = train_test_split(X, Y)\n",
    "    model = build_model()\n",
    "    model.fit(X_train, Y_train)\n",
    "    Y_pred = model.predict(X_test)\n",
    "    evaluate_model(model, X_test, Y_test, categories)\n",
    "    save_model(model, \"classifier.joblib\")"
   ]
  },
  {
   "cell_type": "code",
   "execution_count": 89,
   "metadata": {},
   "outputs": [],
   "source": [
    "def save_model(model, filename):\n",
    "    joblib.dump(model, open(filename, 'wb'))"
   ]
  },
  {
   "cell_type": "code",
   "execution_count": 90,
   "metadata": {},
   "outputs": [
    {
     "name": "stdout",
     "output_type": "stream",
     "text": [
      "related 0.744751529811771 0.7683728036669213 0.7108245339556915\n",
      "request 0.858002105347084 0.8598930481283422 0.8233491709830069\n",
      "offer 0.9902454477172493 0.9951107715813599 0.9926721481558273\n",
      "aid_related 0.6700587776337131 0.6711993888464477 0.6532412701351804\n",
      "medical_help 0.9037837315073601 0.9231474407944996 0.8884327980122009\n",
      "medical_products 0.9186390301085382 0.9489686783804431 0.9254482421845743\n",
      "search_and_rescue 0.9460497315114671 0.9726508785332315 0.959165903917985\n",
      "security 0.9657679075519366 0.9827349121466769 0.9741775379405757\n",
      "military 0.9365626114325166 0.9677616501145913 0.9519065597990249\n",
      "child_alone 1.0 1.0 1.0\n",
      "water 0.9210037428319903 0.9361344537815126 0.9092567397460463\n",
      "food 0.8699121668388238 0.8838808250572956 0.835751699034713\n",
      "shelter 0.8875422720973803 0.905423987776929 0.8625286038030491\n",
      "clothing 0.9702776745117103 0.9850267379679144 0.9775965793841047\n",
      "money 0.9774613079283726 0.9769289533995417 0.9656788632894556\n",
      "missing_people 0.9790263446166021 0.9894576012223071 0.9842143346157224\n",
      "refugees 0.9493157623184325 0.9653170359052712 0.9485818467616196\n",
      "death 0.951126739397117 0.9564553093964858 0.9360501798755618\n",
      "other_aid 0.8897264751644156 0.8737967914438503 0.8150982935927252\n",
      "infrastructure_related 0.897417829517128 0.9327731092436975 0.9010703083974334\n",
      "transport 0.9166934044399264 0.9506493506493506 0.9271941939768026\n",
      "buildings 0.9375509065837682 0.9512605042016806 0.9283865218460292\n",
      "electricity 0.9645670771954868 0.9821237585943469 0.9732662483996704\n",
      "tools 0.9887256176170032 0.9943468296409473 0.9915282566924516\n",
      "hospitals 0.9814466807627281 0.9906799083269672 0.9860416801891251\n",
      "shops 0.9905495538030477 0.9952635599694423 0.9929009617338151\n",
      "aid_centers 0.9757032613726092 0.9877769289533995 0.9817029739713649\n",
      "other_infrastructure 0.9086725621566697 0.9530939648586707 0.9303533203087299\n",
      "weather_related 0.7867564256087071 0.7894576012223071 0.7561425871851923\n",
      "floods 0.9016897119169129 0.9213139801375095 0.8861754333707755\n",
      "storm 0.8915440759120004 0.9093964858670741 0.8696674129207183\n",
      "fire 0.9802361391810006 0.9900687547746372 0.9851279126202915\n",
      "earthquake 0.9452442810171816 0.9488158899923606 0.9442175527368293\n",
      "cold 0.9582749735771801 0.9789152024446142 0.968485130028203\n",
      "other_weather 0.933744787322769 0.9508021390374332 0.9275661253214662\n",
      "direct_report 0.8280446160028845 0.8362108479755539 0.7952325444158612\n"
     ]
    },
    {
     "name": "stderr",
     "output_type": "stream",
     "text": [
      "/Users/ryanneal/Desktop/data_science/disaster_response/disaster/lib/python3.7/site-packages/sklearn/metrics/_classification.py:1221: UndefinedMetricWarning: Precision and F-score are ill-defined and being set to 0.0 in labels with no predicted samples. Use `zero_division` parameter to control this behavior.\n",
      "  _warn_prf(average, modifier, msg_start, len(result))\n"
     ]
    }
   ],
   "source": [
    "main()"
   ]
  },
  {
   "cell_type": "code",
   "execution_count": null,
   "metadata": {},
   "outputs": [],
   "source": []
  }
 ],
 "metadata": {
  "kernelspec": {
   "display_name": "disaster",
   "language": "python",
   "name": "disaster"
  },
  "language_info": {
   "codemirror_mode": {
    "name": "ipython",
    "version": 3
   },
   "file_extension": ".py",
   "mimetype": "text/x-python",
   "name": "python",
   "nbconvert_exporter": "python",
   "pygments_lexer": "ipython3",
   "version": "3.7.7"
  }
 },
 "nbformat": 4,
 "nbformat_minor": 4
}
